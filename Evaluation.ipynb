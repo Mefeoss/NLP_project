{
 "cells": [
  {
   "cell_type": "code",
   "execution_count": 1,
   "id": "3d42dcf3",
   "metadata": {
    "ExecuteTime": {
     "end_time": "2022-12-27T20:12:28.861709Z",
     "start_time": "2022-12-27T20:12:28.838623Z"
    }
   },
   "outputs": [],
   "source": [
    "gold_test_path = \"dev_aspects.txt\"\n",
    "pred_test_path = \"dev_pred_aspects.txt\""
   ]
  },
  {
   "cell_type": "markdown",
   "id": "f8e5a9cd",
   "metadata": {},
   "source": [
    "# Оценка 1: accuracy по выделению упоминаний с категориями"
   ]
  },
  {
   "cell_type": "code",
   "execution_count": 2,
   "id": "0c3bf6ae",
   "metadata": {
    "ExecuteTime": {
     "end_time": "2022-12-27T20:12:29.782251Z",
     "start_time": "2022-12-27T20:12:29.766255Z"
    }
   },
   "outputs": [],
   "source": [
    "from collections import defaultdict"
   ]
  },
  {
   "cell_type": "code",
   "execution_count": 6,
   "id": "8fb687e6",
   "metadata": {
    "ExecuteTime": {
     "end_time": "2022-12-27T20:13:03.731813Z",
     "start_time": "2022-12-27T20:13:03.716744Z"
    }
   },
   "outputs": [],
   "source": [
    "gold_aspect_cats = {}\n",
    "with open(gold_test_path, encoding=\"utf-8\") as fg:\n",
    "    for line in fg:\n",
    "        line = line.rstrip('\\r\\n').split('\\t')\n",
    "        if line[0] not in gold_aspect_cats:\n",
    "            gold_aspect_cats[line[0]] = {\"starts\":[], \"ends\":[], \"cats\":[], \"sents\":[]}\n",
    "        gold_aspect_cats[line[0]][\"starts\"].append(int(line[3]))\n",
    "        gold_aspect_cats[line[0]][\"ends\"].append(int(line[4]))\n",
    "        gold_aspect_cats[line[0]][\"cats\"].append(line[1])\n",
    "        gold_aspect_cats[line[0]][\"sents\"].append(line[5])"
   ]
  },
  {
   "cell_type": "code",
   "execution_count": 8,
   "id": "72d03788",
   "metadata": {
    "ExecuteTime": {
     "end_time": "2022-12-27T20:13:09.822043Z",
     "start_time": "2022-12-27T20:13:09.782022Z"
    }
   },
   "outputs": [],
   "source": [
    "full_match, partial_match, full_cat_match, partial_cat_match = 0, 0, 0, 0\n",
    "total = 0\n",
    "fully_matched_pairs = []\n",
    "partially_matched_pairs = []\n",
    "with open(pred_test_path, encoding=\"utf-8\") as fp:\n",
    "    for line in fp:    \n",
    "        total += 1\n",
    "        line = line.rstrip('\\r\\n').split('\\t')\n",
    "        start, end = int(line[3]), int(line[4])\n",
    "        category = line[1]\n",
    "        doc_gold_aspect_cats = gold_aspect_cats[line[0]]\n",
    "        if start in doc_gold_aspect_cats[\"starts\"]:\n",
    "            i = doc_gold_aspect_cats[\"starts\"].index(start)\n",
    "            if doc_gold_aspect_cats[\"ends\"][i] == end:\n",
    "                full_match += 1\n",
    "                if doc_gold_aspect_cats[\"cats\"][i] == category:\n",
    "                    full_cat_match += 1\n",
    "                else:\n",
    "                    partial_cat_match += 1\n",
    "                fully_matched_pairs.append(\n",
    "                    (\n",
    "                        [\n",
    "                            doc_gold_aspect_cats[\"starts\"][i], \n",
    "                            doc_gold_aspect_cats[\"ends\"][i], \n",
    "                            doc_gold_aspect_cats[\"cats\"][i],\n",
    "                            doc_gold_aspect_cats[\"sents\"][i]\n",
    "                        ],\n",
    "                        line\n",
    "                    )\n",
    "                )\n",
    "                continue\n",
    "        for s_pos in doc_gold_aspect_cats[\"starts\"]:\n",
    "            if start <= s_pos:\n",
    "                i = doc_gold_aspect_cats[\"starts\"].index(s_pos)\n",
    "                if doc_gold_aspect_cats[\"ends\"][i] == end:\n",
    "                    partial_match += 1\n",
    "                    partially_matched_pairs.append(\n",
    "                        (\n",
    "                            [\n",
    "                                doc_gold_aspect_cats[\"starts\"][i], \n",
    "                                doc_gold_aspect_cats[\"ends\"][i], \n",
    "                                doc_gold_aspect_cats[\"cats\"][i],\n",
    "                                doc_gold_aspect_cats[\"sents\"][i]\n",
    "                            ],\n",
    "                            line\n",
    "                        )\n",
    "                    )\n",
    "                    if doc_gold_aspect_cats[\"cats\"][i] == category:\n",
    "                        partial_cat_match += 1\n",
    "                    continue\n",
    "                matched = False\n",
    "                for e_pos in doc_gold_aspect_cats[\"ends\"][i:]:\n",
    "                    if s_pos <= end <= e_pos:\n",
    "                        partial_match += 1\n",
    "                        partially_matched_pairs.append(\n",
    "                            (\n",
    "                                [\n",
    "                                    doc_gold_aspect_cats[\"starts\"][i], \n",
    "                                    doc_gold_aspect_cats[\"ends\"][i], \n",
    "                                    doc_gold_aspect_cats[\"cats\"][i],\n",
    "                                    doc_gold_aspect_cats[\"sents\"][i]\n",
    "                                ],\n",
    "                                line\n",
    "                            )\n",
    "                        )\n",
    "                        if doc_gold_aspect_cats[\"cats\"][i] == category:\n",
    "                            partial_cat_match += 1\n",
    "                        matched = True\n",
    "                        break\n",
    "                if matched:\n",
    "                    break\n",
    "            if start > s_pos:\n",
    "                i = doc_gold_aspect_cats[\"starts\"].index(s_pos)\n",
    "                if start < doc_gold_aspect_cats[\"ends\"][i] <= end:\n",
    "                    partial_match += 1\n",
    "                    partially_matched_pairs.append(\n",
    "                        (\n",
    "                            [\n",
    "                                doc_gold_aspect_cats[\"starts\"][i], \n",
    "                                doc_gold_aspect_cats[\"ends\"][i], \n",
    "                                doc_gold_aspect_cats[\"cats\"][i],\n",
    "                                doc_gold_aspect_cats[\"sents\"][i]\n",
    "                            ],\n",
    "                            line\n",
    "                        )\n",
    "                    )\n",
    "                    if doc_gold_aspect_cats[\"cats\"][i] == category:\n",
    "                        partial_cat_match += 1\n",
    "                    break"
   ]
  },
  {
   "cell_type": "code",
   "execution_count": 9,
   "id": "875e62bc",
   "metadata": {
    "ExecuteTime": {
     "end_time": "2022-12-27T20:13:10.196319Z",
     "start_time": "2022-12-27T20:13:10.192318Z"
    }
   },
   "outputs": [],
   "source": [
    "gold_size = sum([len(gold_aspect_cats[x][\"cats\"]) for x in gold_aspect_cats])"
   ]
  },
  {
   "cell_type": "code",
   "execution_count": 10,
   "id": "f0140d3a",
   "metadata": {
    "ExecuteTime": {
     "end_time": "2022-12-27T20:13:10.681235Z",
     "start_time": "2022-12-27T20:13:10.663953Z"
    }
   },
   "outputs": [
    {
     "name": "stdout",
     "output_type": "stream",
     "text": [
      "\n",
      "Full match precision: 0.4979919678714859\n",
      "Full match recall: 0.7011308562197092\n",
      "Partial match ratio in pred: 0.6397016637980494\n",
      "Full category accuracy: 0.4865174985656913\n",
      "Partial category accuracy: 0.6196213425129088\n",
      "\n"
     ]
    }
   ],
   "source": [
    "print(f\"\"\"\n",
    "Full match precision: {full_match / total}\n",
    "Full match recall: {full_match / gold_size}\n",
    "Partial match ratio in pred: {(full_match + partial_match)  / total}\n",
    "Full category accuracy: {full_cat_match / total}\n",
    "Partial category accuracy: {(full_cat_match + partial_cat_match) / total}\n",
    "\"\"\")\n"
   ]
  },
  {
   "cell_type": "markdown",
   "id": "74fd3833",
   "metadata": {},
   "source": [
    "# Оценка 2: accuracy по тональности упоминаний"
   ]
  },
  {
   "cell_type": "code",
   "execution_count": 11,
   "id": "af14b470",
   "metadata": {
    "ExecuteTime": {
     "end_time": "2022-12-27T20:13:14.615458Z",
     "start_time": "2022-12-27T20:13:14.607469Z"
    }
   },
   "outputs": [],
   "source": [
    "def sentiment_accuracy(matches):\n",
    "    matched_sentiment = 0.\n",
    "    for pair in matches:\n",
    "        *_, gold_s = pair[0]\n",
    "        *_, pred_s = pair[1]\n",
    "        if gold_s == pred_s:\n",
    "            matched_sentiment += 1\n",
    "    print(f\"Mention sentiment accuracy: {matched_sentiment / len(matches)}\")"
   ]
  },
  {
   "cell_type": "markdown",
   "id": "b2433a85",
   "metadata": {},
   "source": [
    "Accuracy по полностью совпавшим упоминаниям:"
   ]
  },
  {
   "cell_type": "code",
   "execution_count": 12,
   "id": "4fb606e7",
   "metadata": {
    "ExecuteTime": {
     "end_time": "2022-12-27T20:13:15.097706Z",
     "start_time": "2022-12-27T20:13:15.089708Z"
    }
   },
   "outputs": [
    {
     "name": "stdout",
     "output_type": "stream",
     "text": [
      "Mention sentiment accuracy: 0.6359447004608295\n"
     ]
    }
   ],
   "source": [
    "sentiment_accuracy(fully_matched_pairs)"
   ]
  },
  {
   "cell_type": "markdown",
   "id": "e60cf752",
   "metadata": {},
   "source": [
    "Accuracy по частично совпавшим упоминаниям:"
   ]
  },
  {
   "cell_type": "code",
   "execution_count": 13,
   "id": "8dd77f7a",
   "metadata": {
    "ExecuteTime": {
     "end_time": "2022-12-27T20:13:15.831009Z",
     "start_time": "2022-12-27T20:13:15.827013Z"
    }
   },
   "outputs": [
    {
     "name": "stdout",
     "output_type": "stream",
     "text": [
      "Mention sentiment accuracy: 0.5546558704453441\n"
     ]
    }
   ],
   "source": [
    "sentiment_accuracy(partially_matched_pairs)"
   ]
  },
  {
   "cell_type": "markdown",
   "id": "a3f284bf",
   "metadata": {},
   "source": [
    "# Оценка 3: accuracy по тональности категории"
   ]
  },
  {
   "cell_type": "code",
   "execution_count": 14,
   "id": "28091f5d",
   "metadata": {
    "ExecuteTime": {
     "end_time": "2022-12-27T20:13:20.248314Z",
     "start_time": "2022-12-27T20:13:20.229846Z"
    }
   },
   "outputs": [],
   "source": [
    "gold_test_cats_path = \"dev_cats.txt\"\n",
    "pred_test_cats_path = \"dev_pred_cats.txt\""
   ]
  },
  {
   "cell_type": "code",
   "execution_count": 15,
   "id": "7d8e5502",
   "metadata": {
    "ExecuteTime": {
     "end_time": "2022-12-27T20:13:24.490679Z",
     "start_time": "2022-12-27T20:13:24.474643Z"
    }
   },
   "outputs": [
    {
     "name": "stdout",
     "output_type": "stream",
     "text": [
      "Overall sentiment accuracy: 0.504225352112676\n"
     ]
    }
   ],
   "source": [
    "with open(gold_test_cats_path, encoding=\"utf-8\") as gc, open(pred_test_cats_path) as pc:\n",
    "    gold_labels = set(gc.readlines())\n",
    "    pred_labels = set(pc.readlines())\n",
    "    print(\n",
    "        \"Overall sentiment accuracy:\",\n",
    "        len(gold_labels & pred_labels) / len(gold_labels)\n",
    "    )"
   ]
  },
  {
   "cell_type": "code",
   "execution_count": null,
   "id": "24eae125",
   "metadata": {},
   "outputs": [],
   "source": []
  }
 ],
 "metadata": {
  "kernelspec": {
   "display_name": "Python 3 (ipykernel)",
   "language": "python",
   "name": "python3"
  },
  "language_info": {
   "codemirror_mode": {
    "name": "ipython",
    "version": 3
   },
   "file_extension": ".py",
   "mimetype": "text/x-python",
   "name": "python",
   "nbconvert_exporter": "python",
   "pygments_lexer": "ipython3",
   "version": "3.10.8"
  },
  "toc": {
   "base_numbering": 1,
   "nav_menu": {},
   "number_sections": true,
   "sideBar": true,
   "skip_h1_title": false,
   "title_cell": "Table of Contents",
   "title_sidebar": "Contents",
   "toc_cell": false,
   "toc_position": {},
   "toc_section_display": true,
   "toc_window_display": false
  },
  "varInspector": {
   "cols": {
    "lenName": 16,
    "lenType": 16,
    "lenVar": 40
   },
   "kernels_config": {
    "python": {
     "delete_cmd_postfix": "",
     "delete_cmd_prefix": "del ",
     "library": "var_list.py",
     "varRefreshCmd": "print(var_dic_list())"
    },
    "r": {
     "delete_cmd_postfix": ") ",
     "delete_cmd_prefix": "rm(",
     "library": "var_list.r",
     "varRefreshCmd": "cat(var_dic_list()) "
    }
   },
   "types_to_exclude": [
    "module",
    "function",
    "builtin_function_or_method",
    "instance",
    "_Feature"
   ],
   "window_display": false
  }
 },
 "nbformat": 4,
 "nbformat_minor": 5
}
